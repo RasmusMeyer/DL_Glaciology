{
 "cells": [
  {
   "cell_type": "code",
   "execution_count": null,
   "metadata": {},
   "outputs": [],
   "source": [
    "import rasterio\n",
    "import rasterio.features\n",
    "import geopandas\n",
    "\n",
    "def polygonize(input_path, output_path):\n",
    "    with rasterio.open(input_path, \"r\") as src:\n",
    "        labels = src.read(1)\n",
    "        trans = src.transform\n",
    "        crs = src.crs\n",
    "\n",
    "    polygons = [\n",
    "        {\"properties\": {\"id\": label}, \"geometry\": geom}\n",
    "        for geom, label in rasterio.features.shapes(labels, transform=trans)\n",
    "        if label != 0\n",
    "    ]\n",
    "    \n",
    "    dataframe = geopandas.GeoDataFrame.from_features(polygons, crs=crs)\n",
    "    dataframe.to_file(output_path)"
   ]
  }
 ],
 "metadata": {
  "language_info": {
   "name": "python"
  }
 },
 "nbformat": 4,
 "nbformat_minor": 2
}
